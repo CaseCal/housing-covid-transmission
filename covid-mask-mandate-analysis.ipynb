{
 "cells": [
  {
   "cell_type": "markdown",
   "metadata": {},
   "source": [
    "# Stage 0: SETUP\n",
    "The following libraries are used directly. For the full list of installed packages and versions, please see requirements.txt"
   ]
  },
  {
   "cell_type": "code",
   "execution_count": 1,
   "metadata": {},
   "outputs": [],
   "source": [
    "# Imports\n",
    "import pandas as pd\n",
    "import numpy as np"
   ]
  },
  {
   "cell_type": "markdown",
   "metadata": {},
   "source": [
    "# Stage 1: DATA ACQUISITION\n",
    "\n",
    "Data is downloaded as csv files, and is already available in this repository in the data folder. See the readme for details on the source of the data."
   ]
  },
  {
   "cell_type": "markdown",
   "metadata": {},
   "source": [
    "## Case Data\n",
    "Case data is provided with dates as columns. For processing, the data is melted into a \"date\" column and \"case_count\" column, and unused columns are dropped."
   ]
  },
  {
   "cell_type": "code",
   "execution_count": 2,
   "metadata": {},
   "outputs": [
    {
     "data": {
      "text/html": [
       "<div>\n",
       "<style scoped>\n",
       "    .dataframe tbody tr th:only-of-type {\n",
       "        vertical-align: middle;\n",
       "    }\n",
       "\n",
       "    .dataframe tbody tr th {\n",
       "        vertical-align: top;\n",
       "    }\n",
       "\n",
       "    .dataframe thead th {\n",
       "        text-align: right;\n",
       "    }\n",
       "</style>\n",
       "<table border=\"1\" class=\"dataframe\">\n",
       "  <thead>\n",
       "    <tr style=\"text-align: right;\">\n",
       "      <th></th>\n",
       "      <th>FIPS</th>\n",
       "      <th>date</th>\n",
       "      <th>Case_Count</th>\n",
       "    </tr>\n",
       "  </thead>\n",
       "  <tbody>\n",
       "    <tr>\n",
       "      <th>0</th>\n",
       "      <td>1001.0</td>\n",
       "      <td>2020-01-22</td>\n",
       "      <td>0</td>\n",
       "    </tr>\n",
       "    <tr>\n",
       "      <th>1</th>\n",
       "      <td>1003.0</td>\n",
       "      <td>2020-01-22</td>\n",
       "      <td>0</td>\n",
       "    </tr>\n",
       "    <tr>\n",
       "      <th>2</th>\n",
       "      <td>1005.0</td>\n",
       "      <td>2020-01-22</td>\n",
       "      <td>0</td>\n",
       "    </tr>\n",
       "    <tr>\n",
       "      <th>3</th>\n",
       "      <td>1007.0</td>\n",
       "      <td>2020-01-22</td>\n",
       "      <td>0</td>\n",
       "    </tr>\n",
       "    <tr>\n",
       "      <th>4</th>\n",
       "      <td>1009.0</td>\n",
       "      <td>2020-01-22</td>\n",
       "      <td>0</td>\n",
       "    </tr>\n",
       "  </tbody>\n",
       "</table>\n",
       "</div>"
      ],
      "text/plain": [
       "     FIPS       date  Case_Count\n",
       "0  1001.0 2020-01-22           0\n",
       "1  1003.0 2020-01-22           0\n",
       "2  1005.0 2020-01-22           0\n",
       "3  1007.0 2020-01-22           0\n",
       "4  1009.0 2020-01-22           0"
      ]
     },
     "execution_count": 2,
     "metadata": {},
     "output_type": "execute_result"
    }
   ],
   "source": [
    "# Get raw data, only keep used columns\n",
    "raw_case_data = pd.read_csv('data/raw/RAW_us_confirmed_cases.csv').drop(columns = [\"Province_State\", \"Admin2\", \"UID\", \"iso2\", \"iso3\", \"Country_Region\", \"Lat\", \"Long_\", \"code3\", \"Combined_Key\"])\n",
    "\n",
    "\n",
    "# Pivot into dat column\n",
    "case_data = raw_case_data.melt(id_vars = \"FIPS\", var_name=\"date\", value_name = \"Case_Count\")\n",
    "\n",
    "# Cast types\n",
    "case_data[\"date\"] = pd.to_datetime(case_data[\"date\"])\n",
    "case_data.head()\n"
   ]
  },
  {
   "cell_type": "markdown",
   "metadata": {},
   "source": [
    "## Mandate Data\n",
    "The Mandate Data contains separate FIPS_State and FIPS_County columns, that must be combined into a FIPS column during procesinsg. Unused columns are dropped."
   ]
  },
  {
   "cell_type": "code",
   "execution_count": 3,
   "metadata": {},
   "outputs": [
    {
     "data": {
      "text/html": [
       "<div>\n",
       "<style scoped>\n",
       "    .dataframe tbody tr th:only-of-type {\n",
       "        vertical-align: middle;\n",
       "    }\n",
       "\n",
       "    .dataframe tbody tr th {\n",
       "        vertical-align: top;\n",
       "    }\n",
       "\n",
       "    .dataframe thead th {\n",
       "        text-align: right;\n",
       "    }\n",
       "</style>\n",
       "<table border=\"1\" class=\"dataframe\">\n",
       "  <thead>\n",
       "    <tr style=\"text-align: right;\">\n",
       "      <th></th>\n",
       "      <th>FIPS</th>\n",
       "      <th>date</th>\n",
       "      <th>mask_mandate</th>\n",
       "    </tr>\n",
       "  </thead>\n",
       "  <tbody>\n",
       "    <tr>\n",
       "      <th>0</th>\n",
       "      <td>1001</td>\n",
       "      <td>2020-04-10</td>\n",
       "      <td>0</td>\n",
       "    </tr>\n",
       "    <tr>\n",
       "      <th>1</th>\n",
       "      <td>1001</td>\n",
       "      <td>2020-04-11</td>\n",
       "      <td>0</td>\n",
       "    </tr>\n",
       "    <tr>\n",
       "      <th>2</th>\n",
       "      <td>1001</td>\n",
       "      <td>2020-04-12</td>\n",
       "      <td>0</td>\n",
       "    </tr>\n",
       "    <tr>\n",
       "      <th>3</th>\n",
       "      <td>1001</td>\n",
       "      <td>2020-04-13</td>\n",
       "      <td>0</td>\n",
       "    </tr>\n",
       "    <tr>\n",
       "      <th>4</th>\n",
       "      <td>1001</td>\n",
       "      <td>2020-04-14</td>\n",
       "      <td>0</td>\n",
       "    </tr>\n",
       "  </tbody>\n",
       "</table>\n",
       "</div>"
      ],
      "text/plain": [
       "   FIPS       date  mask_mandate\n",
       "0  1001 2020-04-10             0\n",
       "1  1001 2020-04-11             0\n",
       "2  1001 2020-04-12             0\n",
       "3  1001 2020-04-13             0\n",
       "4  1001 2020-04-14             0"
      ]
     },
     "execution_count": 3,
     "metadata": {},
     "output_type": "execute_result"
    }
   ],
   "source": [
    "# Get raw data\n",
    "raw_mandate_data = pd.read_csv('data/raw/public_mask_mandates_by_day.csv')\n",
    "\n",
    "# Calcualte FIPS and cast to date\n",
    "raw_mandate_data[\"FIPS\"] = raw_mandate_data[\"FIPS_State\"]*1000 + raw_mandate_data[\"FIPS_County\"]\n",
    "raw_mandate_data[\"date\"] = pd.to_datetime(raw_mandate_data[\"date\"])\n",
    "raw_mandate_data[\"mask_mandate\"] = (raw_mandate_data[\"Face_Masks_Required_in_Public\"] == \"Yes\").astype(int)\n",
    "raw_mandate_data[\"mask_mandate\"].fillna(0, inplace=True)\n",
    "\n",
    "# Remove unused columns\n",
    "mandate_data = raw_mandate_data[[\"FIPS\", \"date\", \"mask_mandate\"]]\n",
    "\n",
    "mandate_data.head()"
   ]
  },
  {
   "cell_type": "markdown",
   "metadata": {},
   "source": [
    "## Compliance Data\n"
   ]
  },
  {
   "cell_type": "code",
   "execution_count": 4,
   "metadata": {},
   "outputs": [
    {
     "data": {
      "text/html": [
       "<div>\n",
       "<style scoped>\n",
       "    .dataframe tbody tr th:only-of-type {\n",
       "        vertical-align: middle;\n",
       "    }\n",
       "\n",
       "    .dataframe tbody tr th {\n",
       "        vertical-align: top;\n",
       "    }\n",
       "\n",
       "    .dataframe thead th {\n",
       "        text-align: right;\n",
       "    }\n",
       "</style>\n",
       "<table border=\"1\" class=\"dataframe\">\n",
       "  <thead>\n",
       "    <tr style=\"text-align: right;\">\n",
       "      <th></th>\n",
       "      <th>COUNTYFP</th>\n",
       "      <th>NEVER</th>\n",
       "      <th>RARELY</th>\n",
       "      <th>SOMETIMES</th>\n",
       "      <th>FREQUENTLY</th>\n",
       "      <th>ALWAYS</th>\n",
       "    </tr>\n",
       "  </thead>\n",
       "  <tbody>\n",
       "    <tr>\n",
       "      <th>0</th>\n",
       "      <td>1001</td>\n",
       "      <td>0.053</td>\n",
       "      <td>0.074</td>\n",
       "      <td>0.134</td>\n",
       "      <td>0.295</td>\n",
       "      <td>0.444</td>\n",
       "    </tr>\n",
       "    <tr>\n",
       "      <th>1</th>\n",
       "      <td>1003</td>\n",
       "      <td>0.083</td>\n",
       "      <td>0.059</td>\n",
       "      <td>0.098</td>\n",
       "      <td>0.323</td>\n",
       "      <td>0.436</td>\n",
       "    </tr>\n",
       "    <tr>\n",
       "      <th>2</th>\n",
       "      <td>1005</td>\n",
       "      <td>0.067</td>\n",
       "      <td>0.121</td>\n",
       "      <td>0.120</td>\n",
       "      <td>0.201</td>\n",
       "      <td>0.491</td>\n",
       "    </tr>\n",
       "    <tr>\n",
       "      <th>3</th>\n",
       "      <td>1007</td>\n",
       "      <td>0.020</td>\n",
       "      <td>0.034</td>\n",
       "      <td>0.096</td>\n",
       "      <td>0.278</td>\n",
       "      <td>0.572</td>\n",
       "    </tr>\n",
       "    <tr>\n",
       "      <th>4</th>\n",
       "      <td>1009</td>\n",
       "      <td>0.053</td>\n",
       "      <td>0.114</td>\n",
       "      <td>0.180</td>\n",
       "      <td>0.194</td>\n",
       "      <td>0.459</td>\n",
       "    </tr>\n",
       "  </tbody>\n",
       "</table>\n",
       "</div>"
      ],
      "text/plain": [
       "   COUNTYFP  NEVER  RARELY  SOMETIMES  FREQUENTLY  ALWAYS\n",
       "0      1001  0.053   0.074      0.134       0.295   0.444\n",
       "1      1003  0.083   0.059      0.098       0.323   0.436\n",
       "2      1005  0.067   0.121      0.120       0.201   0.491\n",
       "3      1007  0.020   0.034      0.096       0.278   0.572\n",
       "4      1009  0.053   0.114      0.180       0.194   0.459"
      ]
     },
     "execution_count": 4,
     "metadata": {},
     "output_type": "execute_result"
    }
   ],
   "source": [
    "# Get raw data\n",
    "raw_compliance_data = pd.read_csv('data/raw/mask_use_by_county.csv')\n",
    "\n",
    "raw_compliance_data.head()"
   ]
  },
  {
   "cell_type": "markdown",
   "metadata": {},
   "source": [
    "# Stage 2: DATA PROCESSING\n",
    "\n",
    "Here we filter down to the target county and combine data"
   ]
  },
  {
   "cell_type": "code",
   "execution_count": 5,
   "metadata": {},
   "outputs": [],
   "source": [
    "# Combine on date and FIPS\n",
    "combined_data = case_data.merge(mandate_data, on=[\"date\", \"FIPS\"], how='left')"
   ]
  },
  {
   "cell_type": "code",
   "execution_count": 6,
   "metadata": {},
   "outputs": [
    {
     "data": {
      "text/plain": [
       "<AxesSubplot:xlabel='date'>"
      ]
     },
     "execution_count": 6,
     "metadata": {},
     "output_type": "execute_result"
    },
    {
     "data": {
      "image/png": "[encoded data removed]",
      "text/plain": [
       "<Figure size 432x288 with 1 Axes>"
      ]
     },
     "metadata": {
      "needs_background": "light"
     },
     "output_type": "display_data"
    }
   ],
   "source": [
    "# Gwinnet County\n",
    "target_fip = 13135\n",
    "target_pop = 957062\n",
    "\n",
    "# Combine on date\n",
    "combined_data_county = combined_data[combined_data[\"FIPS\"] == target_fip]\n",
    "\n",
    "# Keep only data\n",
    "county_data = combined_data_county[[\"date\", \"Case_Count\", \"mask_mandate\", \"FIPS\"]].copy()\n",
    "county_data[\"Pop\"] = target_pop\n",
    "county_data.set_index(\"date\")[\"Case_Count\"].plot()"
   ]
  },
  {
   "cell_type": "markdown",
   "metadata": {},
   "source": [
    "Add in neighboring states that had a mask mandate so that we have a comparison\n"
   ]
  },
  {
   "cell_type": "code",
   "execution_count": 7,
   "metadata": {},
   "outputs": [
    {
     "data": {
      "text/html": [
       "<div>\n",
       "<style scoped>\n",
       "    .dataframe tbody tr th:only-of-type {\n",
       "        vertical-align: middle;\n",
       "    }\n",
       "\n",
       "    .dataframe tbody tr th {\n",
       "        vertical-align: top;\n",
       "    }\n",
       "\n",
       "    .dataframe thead th {\n",
       "        text-align: right;\n",
       "    }\n",
       "</style>\n",
       "<table border=\"1\" class=\"dataframe\">\n",
       "  <thead>\n",
       "    <tr style=\"text-align: right;\">\n",
       "      <th></th>\n",
       "      <th>date</th>\n",
       "      <th>Case_Count</th>\n",
       "      <th>mask_mandate</th>\n",
       "      <th>Pop</th>\n",
       "    </tr>\n",
       "  </thead>\n",
       "  <tbody>\n",
       "    <tr>\n",
       "      <th>0</th>\n",
       "      <td>2020-01-22</td>\n",
       "      <td>0</td>\n",
       "      <td>NaN</td>\n",
       "      <td>15463667</td>\n",
       "    </tr>\n",
       "    <tr>\n",
       "      <th>1</th>\n",
       "      <td>2020-01-23</td>\n",
       "      <td>0</td>\n",
       "      <td>NaN</td>\n",
       "      <td>15463667</td>\n",
       "    </tr>\n",
       "    <tr>\n",
       "      <th>2</th>\n",
       "      <td>2020-01-24</td>\n",
       "      <td>0</td>\n",
       "      <td>NaN</td>\n",
       "      <td>15463667</td>\n",
       "    </tr>\n",
       "    <tr>\n",
       "      <th>3</th>\n",
       "      <td>2020-01-25</td>\n",
       "      <td>0</td>\n",
       "      <td>NaN</td>\n",
       "      <td>15463667</td>\n",
       "    </tr>\n",
       "    <tr>\n",
       "      <th>4</th>\n",
       "      <td>2020-01-26</td>\n",
       "      <td>0</td>\n",
       "      <td>NaN</td>\n",
       "      <td>15463667</td>\n",
       "    </tr>\n",
       "  </tbody>\n",
       "</table>\n",
       "</div>"
      ],
      "text/plain": [
       "        date  Case_Count  mask_mandate       Pop\n",
       "0 2020-01-22           0           NaN  15463667\n",
       "1 2020-01-23           0           NaN  15463667\n",
       "2 2020-01-24           0           NaN  15463667\n",
       "3 2020-01-25           0           NaN  15463667\n",
       "4 2020-01-26           0           NaN  15463667"
      ]
     },
     "execution_count": 7,
     "metadata": {},
     "output_type": "execute_result"
    }
   ],
   "source": [
    "# Neighbor data (pop from US census 2020)\n",
    "neighbors = [\n",
    "    {\"state\":\"NC\", \"FIP\":37, \"Pop\": 10439388 },\n",
    "    {\"state\":\"AL\", \"FIP\":1, \"Pop\": 5024279 }\n",
    "]\n",
    "\n",
    "# Aggregate\n",
    "neighbor_fips = [row[\"FIP\"] for row in neighbors]\n",
    "neighbor_data = combined_data[(combined_data[\"FIPS\"] // 1000).isin(neighbor_fips)].copy()\n",
    "neighbor_data = neighbor_data.groupby(\"date\").aggregate({\"Case_Count\": \"sum\", \"mask_mandate\":\"mean\"}).reset_index()\n",
    "neighbor_data[\"Pop\"] = np.sum([row[\"Pop\"] for row in neighbors])\n",
    "neighbor_data.head()"
   ]
  },
  {
   "cell_type": "markdown",
   "metadata": {},
   "source": [
    "# Stage 3: MODELING\n",
    "\n",
    "Here we model infection rates and case counts."
   ]
  },
  {
   "cell_type": "code",
   "execution_count": 21,
   "metadata": {},
   "outputs": [
    {
     "data": {
      "text/html": [
       "<div>\n",
       "<style scoped>\n",
       "    .dataframe tbody tr th:only-of-type {\n",
       "        vertical-align: middle;\n",
       "    }\n",
       "\n",
       "    .dataframe tbody tr th {\n",
       "        vertical-align: top;\n",
       "    }\n",
       "\n",
       "    .dataframe thead th {\n",
       "        text-align: right;\n",
       "    }\n",
       "</style>\n",
       "<table border=\"1\" class=\"dataframe\">\n",
       "  <thead>\n",
       "    <tr style=\"text-align: right;\">\n",
       "      <th></th>\n",
       "      <th>Case_Count</th>\n",
       "      <th>mask_mandate</th>\n",
       "      <th>FIPS</th>\n",
       "      <th>Pop</th>\n",
       "      <th>new_cases</th>\n",
       "      <th>vulnerable_pop</th>\n",
       "      <th>active_cases</th>\n",
       "      <th>infection_rate</th>\n",
       "      <th>infection_rate_7da</th>\n",
       "      <th>infection_rate_change</th>\n",
       "      <th>infection_rate_change_smooth</th>\n",
       "    </tr>\n",
       "    <tr>\n",
       "      <th>date</th>\n",
       "      <th></th>\n",
       "      <th></th>\n",
       "      <th></th>\n",
       "      <th></th>\n",
       "      <th></th>\n",
       "      <th></th>\n",
       "      <th></th>\n",
       "      <th></th>\n",
       "      <th></th>\n",
       "      <th></th>\n",
       "      <th></th>\n",
       "    </tr>\n",
       "  </thead>\n",
       "  <tbody>\n",
       "    <tr>\n",
       "      <th>2020-01-22</th>\n",
       "      <td>0</td>\n",
       "      <td>NaN</td>\n",
       "      <td>13135.0</td>\n",
       "      <td>957062</td>\n",
       "      <td>NaN</td>\n",
       "      <td>957062</td>\n",
       "      <td>NaN</td>\n",
       "      <td>NaN</td>\n",
       "      <td>NaN</td>\n",
       "      <td>NaN</td>\n",
       "      <td>NaN</td>\n",
       "    </tr>\n",
       "    <tr>\n",
       "      <th>2020-01-23</th>\n",
       "      <td>0</td>\n",
       "      <td>NaN</td>\n",
       "      <td>13135.0</td>\n",
       "      <td>957062</td>\n",
       "      <td>0.0</td>\n",
       "      <td>957062</td>\n",
       "      <td>NaN</td>\n",
       "      <td>0.000000</td>\n",
       "      <td>NaN</td>\n",
       "      <td>NaN</td>\n",
       "      <td>NaN</td>\n",
       "    </tr>\n",
       "    <tr>\n",
       "      <th>2020-01-24</th>\n",
       "      <td>0</td>\n",
       "      <td>NaN</td>\n",
       "      <td>13135.0</td>\n",
       "      <td>957062</td>\n",
       "      <td>0.0</td>\n",
       "      <td>957062</td>\n",
       "      <td>NaN</td>\n",
       "      <td>0.000000</td>\n",
       "      <td>NaN</td>\n",
       "      <td>NaN</td>\n",
       "      <td>NaN</td>\n",
       "    </tr>\n",
       "    <tr>\n",
       "      <th>2020-01-25</th>\n",
       "      <td>0</td>\n",
       "      <td>NaN</td>\n",
       "      <td>13135.0</td>\n",
       "      <td>957062</td>\n",
       "      <td>0.0</td>\n",
       "      <td>957062</td>\n",
       "      <td>NaN</td>\n",
       "      <td>0.000000</td>\n",
       "      <td>NaN</td>\n",
       "      <td>NaN</td>\n",
       "      <td>NaN</td>\n",
       "    </tr>\n",
       "    <tr>\n",
       "      <th>2020-01-26</th>\n",
       "      <td>0</td>\n",
       "      <td>NaN</td>\n",
       "      <td>13135.0</td>\n",
       "      <td>957062</td>\n",
       "      <td>0.0</td>\n",
       "      <td>957062</td>\n",
       "      <td>NaN</td>\n",
       "      <td>0.000000</td>\n",
       "      <td>NaN</td>\n",
       "      <td>NaN</td>\n",
       "      <td>NaN</td>\n",
       "    </tr>\n",
       "    <tr>\n",
       "      <th>...</th>\n",
       "      <td>...</td>\n",
       "      <td>...</td>\n",
       "      <td>...</td>\n",
       "      <td>...</td>\n",
       "      <td>...</td>\n",
       "      <td>...</td>\n",
       "      <td>...</td>\n",
       "      <td>...</td>\n",
       "      <td>...</td>\n",
       "      <td>...</td>\n",
       "      <td>...</td>\n",
       "    </tr>\n",
       "    <tr>\n",
       "      <th>2021-10-27</th>\n",
       "      <td>132879</td>\n",
       "      <td>NaN</td>\n",
       "      <td>13135.0</td>\n",
       "      <td>957062</td>\n",
       "      <td>142.0</td>\n",
       "      <td>824183</td>\n",
       "      <td>1629.0</td>\n",
       "      <td>0.000172</td>\n",
       "      <td>0.000125</td>\n",
       "      <td>1.946932e-07</td>\n",
       "      <td>-0.015387</td>\n",
       "    </tr>\n",
       "    <tr>\n",
       "      <th>2021-10-28</th>\n",
       "      <td>133024</td>\n",
       "      <td>NaN</td>\n",
       "      <td>13135.0</td>\n",
       "      <td>957062</td>\n",
       "      <td>145.0</td>\n",
       "      <td>824038</td>\n",
       "      <td>1546.0</td>\n",
       "      <td>0.000176</td>\n",
       "      <td>0.000131</td>\n",
       "      <td>6.431613e-06</td>\n",
       "      <td>-0.009097</td>\n",
       "    </tr>\n",
       "    <tr>\n",
       "      <th>2021-10-29</th>\n",
       "      <td>133120</td>\n",
       "      <td>NaN</td>\n",
       "      <td>13135.0</td>\n",
       "      <td>957062</td>\n",
       "      <td>96.0</td>\n",
       "      <td>823942</td>\n",
       "      <td>1471.0</td>\n",
       "      <td>0.000117</td>\n",
       "      <td>0.000123</td>\n",
       "      <td>-8.300865e-06</td>\n",
       "      <td>-0.008533</td>\n",
       "    </tr>\n",
       "    <tr>\n",
       "      <th>2021-10-30</th>\n",
       "      <td>133120</td>\n",
       "      <td>NaN</td>\n",
       "      <td>13135.0</td>\n",
       "      <td>957062</td>\n",
       "      <td>0.0</td>\n",
       "      <td>823942</td>\n",
       "      <td>1471.0</td>\n",
       "      <td>0.000000</td>\n",
       "      <td>0.000123</td>\n",
       "      <td>0.000000e+00</td>\n",
       "      <td>-0.008533</td>\n",
       "    </tr>\n",
       "    <tr>\n",
       "      <th>2021-10-31</th>\n",
       "      <td>133120</td>\n",
       "      <td>NaN</td>\n",
       "      <td>13135.0</td>\n",
       "      <td>957062</td>\n",
       "      <td>0.0</td>\n",
       "      <td>823942</td>\n",
       "      <td>1471.0</td>\n",
       "      <td>0.000000</td>\n",
       "      <td>0.000123</td>\n",
       "      <td>0.000000e+00</td>\n",
       "      <td>-0.008533</td>\n",
       "    </tr>\n",
       "  </tbody>\n",
       "</table>\n",
       "<p>649 rows × 11 columns</p>\n",
       "</div>"
      ],
      "text/plain": [
       "            Case_Count  mask_mandate     FIPS     Pop  new_cases  \\\n",
       "date                                                               \n",
       "2020-01-22           0           NaN  13135.0  957062        NaN   \n",
       "2020-01-23           0           NaN  13135.0  957062        0.0   \n",
       "2020-01-24           0           NaN  13135.0  957062        0.0   \n",
       "2020-01-25           0           NaN  13135.0  957062        0.0   \n",
       "2020-01-26           0           NaN  13135.0  957062        0.0   \n",
       "...                ...           ...      ...     ...        ...   \n",
       "2021-10-27      132879           NaN  13135.0  957062      142.0   \n",
       "2021-10-28      133024           NaN  13135.0  957062      145.0   \n",
       "2021-10-29      133120           NaN  13135.0  957062       96.0   \n",
       "2021-10-30      133120           NaN  13135.0  957062        0.0   \n",
       "2021-10-31      133120           NaN  13135.0  957062        0.0   \n",
       "\n",
       "            vulnerable_pop  active_cases  infection_rate  infection_rate_7da  \\\n",
       "date                                                                           \n",
       "2020-01-22          957062           NaN             NaN                 NaN   \n",
       "2020-01-23          957062           NaN        0.000000                 NaN   \n",
       "2020-01-24          957062           NaN        0.000000                 NaN   \n",
       "2020-01-25          957062           NaN        0.000000                 NaN   \n",
       "2020-01-26          957062           NaN        0.000000                 NaN   \n",
       "...                    ...           ...             ...                 ...   \n",
       "2021-10-27          824183        1629.0        0.000172            0.000125   \n",
       "2021-10-28          824038        1546.0        0.000176            0.000131   \n",
       "2021-10-29          823942        1471.0        0.000117            0.000123   \n",
       "2021-10-30          823942        1471.0        0.000000            0.000123   \n",
       "2021-10-31          823942        1471.0        0.000000            0.000123   \n",
       "\n",
       "            infection_rate_change  infection_rate_change_smooth  \n",
       "date                                                             \n",
       "2020-01-22                    NaN                           NaN  \n",
       "2020-01-23                    NaN                           NaN  \n",
       "2020-01-24                    NaN                           NaN  \n",
       "2020-01-25                    NaN                           NaN  \n",
       "2020-01-26                    NaN                           NaN  \n",
       "...                           ...                           ...  \n",
       "2021-10-27           1.946932e-07                     -0.015387  \n",
       "2021-10-28           6.431613e-06                     -0.009097  \n",
       "2021-10-29          -8.300865e-06                     -0.008533  \n",
       "2021-10-30           0.000000e+00                     -0.008533  \n",
       "2021-10-31           0.000000e+00                     -0.008533  \n",
       "\n",
       "[649 rows x 11 columns]"
      ]
     },
     "execution_count": 21,
     "metadata": {},
     "output_type": "execute_result"
    }
   ],
   "source": [
    "def calculateSpreadRate(df, active_window = 10, smoothing = 14):\n",
    "    df = df.set_index(\"date\")\n",
    "    \n",
    "    # Extra calcs\n",
    "    df[\"new_cases\"] = df[\"Case_Count\"].diff()\n",
    "    df[\"vulnerable_pop\"] = df[\"Pop\"] - df[\"Case_Count\"]\n",
    "    \n",
    "    # Infection rate is new over vulnerable\n",
    "    df[\"active_cases\"] = df[\"new_cases\"].rolling(window=14).sum()\n",
    "    df[\"infection_rate\"] = df[\"new_cases\"] / df[\"vulnerable_pop\"]# / df[\"active_cases\"]\n",
    "    df[\"infection_rate_7da\"] = df[\"infection_rate\"].rolling(window=7).mean()\n",
    "    df[\"infection_rate_change\"] = df[\"infection_rate_7da\"].diff()\n",
    "    df[\"infection_rate_change_smooth\"] = df[\"infection_rate_change\"].rolling(window=smoothing).mean() * 1000000\n",
    "    \n",
    "    \n",
    "    return df\n",
    "    \n",
    "    \n",
    "    \n",
    "    \n",
    "calculateSpreadRate(county_data) "
   ]
  },
  {
   "cell_type": "code",
   "execution_count": 22,
   "metadata": {
    "scrolled": true
   },
   "outputs": [
    {
     "data": {
      "text/plain": [
       "<AxesSubplot:xlabel='date'>"
      ]
     },
     "execution_count": 22,
     "metadata": {},
     "output_type": "execute_result"
    },
    {
     "data": {
      "image/png": "[encoded data removed]",
      "text/plain": [
       "<Figure size 432x288 with 1 Axes>"
      ]
     },
     "metadata": {
      "needs_background": "light"
     },
     "output_type": "display_data"
    }
   ],
   "source": [
    "county_rates = calculateSpreadRate(county_data)\n",
    "county_rates[\"infection_rate_change_smooth\"].plot()"
   ]
  },
  {
   "cell_type": "code",
   "execution_count": 23,
   "metadata": {},
   "outputs": [
    {
     "data": {
      "text/plain": [
       "<AxesSubplot:xlabel='date'>"
      ]
     },
     "execution_count": 23,
     "metadata": {},
     "output_type": "execute_result"
    },
    {
     "data": {
      "image/png": "[encoded data removed]",
      "text/plain": [
       "<Figure size 432x288 with 1 Axes>"
      ]
     },
     "metadata": {
      "needs_background": "light"
     },
     "output_type": "display_data"
    }
   ],
   "source": [
    "neighbor_rates = calculateSpreadRate(neighbor_data, smoothing=30)\n",
    "neighbor_rates[\"infection_rate_change_smooth\"].plot()"
   ]
  },
  {
   "cell_type": "code",
   "execution_count": 11,
   "metadata": {},
   "outputs": [
    {
     "data": {
      "text/plain": [
       "<AxesSubplot:xlabel='date'>"
      ]
     },
     "execution_count": 11,
     "metadata": {},
     "output_type": "execute_result"
    },
    {
     "data": {
      "image/png": "[encoded data removed]",
      "text/plain": [
       "<Figure size 432x288 with 1 Axes>"
      ]
     },
     "metadata": {
      "needs_background": "light"
     },
     "output_type": "display_data"
    }
   ],
   "source": [
    "calculateSpreadRate(neighbor_data)[\"mask_mandate\"].plot()"
   ]
  },
  {
   "cell_type": "code",
   "execution_count": 40,
   "metadata": {},
   "outputs": [
    {
     "data": {
      "image/png": "[encoded data removed]",
      "text/plain": [
       "<Figure size 720x432 with 2 Axes>"
      ]
     },
     "metadata": {
      "needs_background": "light"
     },
     "output_type": "display_data"
    }
   ],
   "source": [
    "import matplotlib.pyplot as plt\n",
    "fig,ax = plt.subplots()\n",
    "fig.set_size_inches(10, 6, forward=True)\n",
    "#fig.autofmt_xdate()\n",
    "\n",
    "# PLot rates\n",
    "county_rates[\"infection_rate_change_smooth\"].plot(label=\"Gwinnet County\", color=\"orange\")\n",
    "neighbor_rates[\"infection_rate_change_smooth\"].plot(label=\"Neighbors\", color=\"slateblue\", alpha=0.6, linestyle='dotted')\n",
    "plt.ylabel(\"Cases per Mil. Vuln. Pop\")\n",
    "plt.xlabel(\"\")\n",
    "plt.legend()\n",
    "\n",
    "#PLot mask usage\n",
    "ax2=ax.twinx()\n",
    "neighbor_rates[\"mask_mandate\"].plot.area(color=\"skyblue\", alpha=0.2, label=\"% Neighbors with Mask Mandate\")\n",
    "plt.axis('off')\n",
    "plt.legend()\n",
    "\n",
    "# Annotation\n",
    "plt.title(label = \"Change in Infection Rate\")\n",
    "#plt.show()\n",
    "plt.savefig('Change_in_infection_rate.png')\n"
   ]
  },
  {
   "cell_type": "code",
   "execution_count": 47,
   "metadata": {},
   "outputs": [
    {
     "data": {
      "image/png": "[encoded data removed]",
      "text/plain": [
       "<Figure size 720x432 with 2 Axes>"
      ]
     },
     "metadata": {
      "needs_background": "light"
     },
     "output_type": "display_data"
    }
   ],
   "source": [
    "fig,ax = plt.subplots()\n",
    "fig.set_size_inches(10, 6, forward=True)\n",
    "\n",
    "# Find diff\n",
    "infection_rate_diff = (county_rates[\"infection_rate_7da\"] - neighbor_rates[\"infection_rate_7da\"]) * 1000000\n",
    "zero = infection_rate_diff * 0\n",
    "\n",
    "# PLot rates\n",
    "infection_rate_diff.plot(label=\"Infection Rate Difference\", color=\"orange\")\n",
    "zero.plot(color=\"black\", linewidth=0.5, linestyle='dashed', alpha=0.5)\n",
    "plt.ylabel(\"Cases per Mil. Vuln. Pop\")\n",
    "plt.xlabel(\"\")\n",
    "\n",
    "#PLot mask usage\n",
    "ax2=ax.twinx()\n",
    "neighbor_rates[\"mask_mandate\"].plot.area(color=\"skyblue\", alpha=0.2, label=\"% Neighbors with Mask Mandate\")\n",
    "plt.axis('off')\n",
    "plt.legend()\n",
    "\n",
    "#Anotate\n",
    "plt.title(label = \"Diff in Daily New Cases Between Gwinnett County and Neighbors\")\n",
    "#plt.show()\n",
    "plt.savefig('Diff_in_infection_rate.png')"
   ]
  },
  {
   "cell_type": "code",
   "execution_count": null,
   "metadata": {},
   "outputs": [],
   "source": []
  }
 ],
 "metadata": {
  "kernelspec": {
   "display_name": "data-512-a2",
   "language": "python",
   "name": "data-512-a2"
  },
  "language_info": {
   "codemirror_mode": {
    "name": "ipython",
    "version": 3
   },
   "file_extension": ".py",
   "mimetype": "text/x-python",
   "name": "python",
   "nbconvert_exporter": "python",
   "pygments_lexer": "ipython3",
   "version": "3.7.6"
  }
 },
 "nbformat": 4,
 "nbformat_minor": 4
}
